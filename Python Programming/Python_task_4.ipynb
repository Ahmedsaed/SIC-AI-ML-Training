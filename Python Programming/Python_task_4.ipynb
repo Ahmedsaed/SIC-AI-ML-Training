{
 "cells": [
  {
   "cell_type": "markdown",
   "metadata": {},
   "source": [
    "# SIC Python Task 4\n",
    "**Name**: Ahmed Saed"
   ]
  },
  {
   "cell_type": "markdown",
   "metadata": {},
   "source": [
    "## Exercise 1"
   ]
  },
  {
   "cell_type": "markdown",
   "metadata": {},
   "source": [
    "1: Create a Vehicle class with max_speedand mileage instance attributes"
   ]
  },
  {
   "cell_type": "code",
   "execution_count": 1,
   "metadata": {},
   "outputs": [],
   "source": [
    "class Vehicle:\n",
    "    def __init__(self, name, max_speed, mileage):\n",
    "        self.name = name\n",
    "        self.max_speed= max_speed\n",
    "        self.mileage= mileage\n",
    "\n",
    "    \n",
    "    def seating_capacity(self, capacity):\n",
    "        return f\"The seating capacity of a {self.name} is {capacity} passengers\"\n"
   ]
  },
  {
   "cell_type": "markdown",
   "metadata": {},
   "source": [
    "\n",
    "2: Create a Bus class that inherits from the Vehicle class. Give the capacity argument of Bus.seating_capacity() a default value of 50."
   ]
  },
  {
   "cell_type": "code",
   "execution_count": 3,
   "metadata": {},
   "outputs": [],
   "source": [
    "class Bus(Vehicle):\n",
    "    def seating_capacity(self, capacity=50):\n",
    "        return super().seating_capacity(capacity)"
   ]
  },
  {
   "cell_type": "markdown",
   "metadata": {},
   "source": [
    "3. Determine if School_busis also an instance of the Vehicle class"
   ]
  },
  {
   "cell_type": "code",
   "execution_count": 4,
   "metadata": {},
   "outputs": [],
   "source": [
    "School_bus= Bus(\"School Volvo\", 12, 50)"
   ]
  },
  {
   "cell_type": "code",
   "execution_count": 5,
   "metadata": {},
   "outputs": [
    {
     "data": {
      "text/plain": [
       "True"
      ]
     },
     "execution_count": 5,
     "metadata": {},
     "output_type": "execute_result"
    }
   ],
   "source": [
    "isinstance(School_bus, Vehicle)"
   ]
  },
  {
   "cell_type": "markdown",
   "metadata": {},
   "source": [
    "4. Create a Circle class and initialize it with radius. Make two methods getArea and getCircumference inside this class."
   ]
  },
  {
   "cell_type": "code",
   "execution_count": 11,
   "metadata": {},
   "outputs": [],
   "source": [
    "class Circle:\n",
    "    def __init__(self, radius):\n",
    "        self.radius = radius\n",
    "\n",
    "    def getArea(self):\n",
    "        return 3.14 * self.radius * self.radius\n",
    "    \n",
    "    def getCircumference(self):\n",
    "        return 2 * 3.14 * self.radius"
   ]
  },
  {
   "cell_type": "code",
   "execution_count": 12,
   "metadata": {},
   "outputs": [
    {
     "data": {
      "text/plain": [
       "31.400000000000002"
      ]
     },
     "execution_count": 12,
     "metadata": {},
     "output_type": "execute_result"
    }
   ],
   "source": [
    "myCircle = Circle(5)\n",
    "myCircle.getArea()\n",
    "myCircle.getCircumference()"
   ]
  },
  {
   "cell_type": "markdown",
   "metadata": {},
   "source": [
    "5. Create a Temperature class. Make two methods:    \n",
    "    1. convertFahrenheit -It will take celsius and will print it into Fahrenheit.\n",
    "    2. convertCelsius -It will take Fahrenheit and will convert it into Celsius."
   ]
  },
  {
   "cell_type": "code",
   "execution_count": 20,
   "metadata": {},
   "outputs": [],
   "source": [
    "class Temperature():\n",
    "    def convertFahrenheit(self, celsius):\n",
    "        return celsius * 9/5 + 32\n",
    "\n",
    "    def convertCelsius(self, fahrenheit):\n",
    "        return (fahrenheit - 32) * 5/9"
   ]
  },
  {
   "cell_type": "code",
   "execution_count": 23,
   "metadata": {},
   "outputs": [
    {
     "name": "stdout",
     "output_type": "stream",
     "text": [
      "32.0\n",
      "0.0\n"
     ]
    }
   ],
   "source": [
    "temp = Temperature()\n",
    "print(temp.convertFahrenheit(0))\n",
    "print(temp.convertCelsius(32))"
   ]
  },
  {
   "cell_type": "markdown",
   "metadata": {},
   "source": [
    "# Bonus 🎉🥳"
   ]
  },
  {
   "cell_type": "markdown",
   "metadata": {},
   "source": [
    "6. Create a Time class and initialize it with hours and minutes.\n",
    "    1. Make a method addTime which should take two timeobject and add them. E.g.-(2 hour and 50 min)+(1 hr and 20 min) is (4 hr and 10 min)\n",
    "    2. Make a method displayTime which should print the time.\n",
    "    3. Make a method DisplayMinute which should display the total minutes in the Time. E.g.-(1 hr2 min) should display 62 minute."
   ]
  },
  {
   "cell_type": "code",
   "execution_count": 28,
   "metadata": {},
   "outputs": [],
   "source": [
    "class Time():\n",
    "    def __init__(self, hours, minutes):\n",
    "        self.hours = hours\n",
    "        self.minutes = minutes\n",
    "\n",
    "    def addTime(self, t1, t2):\n",
    "        t3 = Time(0, 0)\n",
    "        t3.hours = t1.hours + t2.hours\n",
    "        t3.minutes = t1.minutes + t2.minutes\n",
    "        while t3.minutes >= 60:\n",
    "            t3.hours += 1\n",
    "            t3.minutes -= 60\n",
    "        return t3\n",
    "        \n",
    "    def displayTime(self):\n",
    "        print(f\"The time is {self.hours}:{self.minutes}\")\n",
    "\n",
    "    def displayMinutes(self):\n",
    "        print(f\"Total minutes: {self.hours * 60 + self.minutes}\")"
   ]
  },
  {
   "cell_type": "code",
   "execution_count": 29,
   "metadata": {},
   "outputs": [
    {
     "name": "stdout",
     "output_type": "stream",
     "text": [
      "The time is 8:34\n",
      "Total minutes: 514\n"
     ]
    }
   ],
   "source": [
    "myTime = Time(2, 17)\n",
    "t1 = Time(5, 18)\n",
    "t2 = Time(3, 16)\n",
    "newTime = myTime.addTime(t1, t2)\n",
    "newTime.displayTime()\n",
    "newTime.displayMinutes()"
   ]
  }
 ],
 "metadata": {
  "kernelspec": {
   "display_name": "Python 3.10.5 ('ML-TensorFlow')",
   "language": "python",
   "name": "python3"
  },
  "language_info": {
   "codemirror_mode": {
    "name": "ipython",
    "version": 3
   },
   "file_extension": ".py",
   "mimetype": "text/x-python",
   "name": "python",
   "nbconvert_exporter": "python",
   "pygments_lexer": "ipython3",
   "version": "3.10.5"
  },
  "orig_nbformat": 4,
  "vscode": {
   "interpreter": {
    "hash": "d1f66bc1465963b37814a3c70c368474aa589106cfea63a6b29249f75798022b"
   }
  }
 },
 "nbformat": 4,
 "nbformat_minor": 2
}
