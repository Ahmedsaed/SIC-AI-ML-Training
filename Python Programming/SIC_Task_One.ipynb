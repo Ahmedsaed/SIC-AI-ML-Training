{
  "cells": [
    {
      "cell_type": "markdown",
      "metadata": {
        "id": "u07uiF5vZwfi"
      },
      "source": [
        "# SIC Task 1\n",
        "**Name:** Ahmed Saed    \n",
        "  \n",
        "<br>"
      ]
    },
    {
      "cell_type": "markdown",
      "metadata": {
        "id": "0wQj1OIBeB4H"
      },
      "source": [
        "## Exercise 1\n",
        "#### Consider the following strings\n",
        "a. \"Hello World\"   \n",
        "b. \"python is easy\""
      ]
    },
    {
      "cell_type": "code",
      "execution_count": 2,
      "metadata": {
        "id": "1e0cunfGZ5f4"
      },
      "outputs": [],
      "source": [
        "str1 = \"Hello World\"   \n",
        "str2 = \"python is easy\""
      ]
    },
    {
      "cell_type": "markdown",
      "metadata": {
        "id": "fSPuJl76bHz1"
      },
      "source": [
        "- What is the length of the first string ?\n"
      ]
    },
    {
      "cell_type": "code",
      "execution_count": 3,
      "metadata": {
        "colab": {
          "base_uri": "https://localhost:8080/"
        },
        "id": "GMJBv4WMa-Mz",
        "outputId": "5c500590-15f2-4a10-af9e-182f38ea0c71"
      },
      "outputs": [
        {
          "data": {
            "text/plain": [
              "11"
            ]
          },
          "execution_count": 3,
          "metadata": {},
          "output_type": "execute_result"
        }
      ],
      "source": [
        "len(str1)"
      ]
    },
    {
      "cell_type": "markdown",
      "metadata": {
        "id": "I-81O8b4bRD8"
      },
      "source": [
        "- Get the first character of the second string."
      ]
    },
    {
      "cell_type": "code",
      "execution_count": 4,
      "metadata": {
        "colab": {
          "base_uri": "https://localhost:8080/",
          "height": 35
        },
        "id": "OrrdImMKdQkN",
        "outputId": "d3cf3b61-9826-4b3e-fca7-de78404f176f"
      },
      "outputs": [
        {
          "data": {
            "application/vnd.google.colaboratory.intrinsic+json": {
              "type": "string"
            },
            "text/plain": [
              "'p'"
            ]
          },
          "execution_count": 4,
          "metadata": {},
          "output_type": "execute_result"
        }
      ],
      "source": [
        "str2[0]"
      ]
    },
    {
      "cell_type": "markdown",
      "metadata": {
        "id": "hZ8RKJimdV7N"
      },
      "source": [
        "- Return the first string without any whitespace at the beginning or the end."
      ]
    },
    {
      "cell_type": "code",
      "execution_count": 5,
      "metadata": {
        "colab": {
          "base_uri": "https://localhost:8080/",
          "height": 35
        },
        "id": "Ayn5hcSldS44",
        "outputId": "9400c60a-21df-451c-ce67-66a7108a53be"
      },
      "outputs": [
        {
          "data": {
            "application/vnd.google.colaboratory.intrinsic+json": {
              "type": "string"
            },
            "text/plain": [
              "'Hello World'"
            ]
          },
          "execution_count": 5,
          "metadata": {},
          "output_type": "execute_result"
        }
      ],
      "source": [
        "str1.strip()"
      ]
    },
    {
      "cell_type": "markdown",
      "metadata": {
        "id": "8bWMyYb8dgPx"
      },
      "source": [
        "- Convert the second string to upper case."
      ]
    },
    {
      "cell_type": "code",
      "execution_count": 6,
      "metadata": {
        "colab": {
          "base_uri": "https://localhost:8080/",
          "height": 35
        },
        "id": "VRZUdYbgdduv",
        "outputId": "d07c5bbd-72ea-4153-dfa6-2eb1cc86bc14"
      },
      "outputs": [
        {
          "data": {
            "application/vnd.google.colaboratory.intrinsic+json": {
              "type": "string"
            },
            "text/plain": [
              "'PYTHON IS EASY'"
            ]
          },
          "execution_count": 6,
          "metadata": {},
          "output_type": "execute_result"
        }
      ],
      "source": [
        "str2.upper()"
      ]
    },
    {
      "cell_type": "markdown",
      "metadata": {
        "id": "QkFF2GGtdoXQ"
      },
      "source": [
        "## Exercise 2 \n",
        "### Write a report on operator precedence. \n",
        "\n",
        "The combination of values, variables, operators, and function calls is termed as an expression. The Python interpreter can evaluate a valid expression.\n",
        "\n",
        "To evaluate these types of expressions there is a rule of precedence in Python. It guides the order in which these operations are carried out.\n",
        "\n",
        "The operator precedence in Python is listed here in descending order\n",
        "\n",
        "<br>\n",
        "\n",
        "- ()\tParentheses  "
      ]
    },
    {
      "cell_type": "code",
      "execution_count": null,
      "metadata": {
        "id": "O5GCVICXdk0e"
      },
      "outputs": [],
      "source": [
        "5 * (3 + 1)"
      ]
    },
    {
      "cell_type": "markdown",
      "metadata": {},
      "source": [
        "- **\tExponent  \n"
      ]
    },
    {
      "cell_type": "code",
      "execution_count": 1,
      "metadata": {},
      "outputs": [
        {
          "data": {
            "text/plain": [
              "75"
            ]
          },
          "execution_count": 1,
          "metadata": {},
          "output_type": "execute_result"
        }
      ],
      "source": [
        "5 ** 2 * 3"
      ]
    },
    {
      "cell_type": "markdown",
      "metadata": {},
      "source": [
        "- +x, -x, ~x\tUnary plus, Unary minus, Bitwise NOT  "
      ]
    },
    {
      "cell_type": "code",
      "execution_count": 4,
      "metadata": {},
      "outputs": [
        {
          "data": {
            "text/plain": [
              "7"
            ]
          },
          "execution_count": 4,
          "metadata": {},
          "output_type": "execute_result"
        }
      ],
      "source": [
        "+7"
      ]
    },
    {
      "cell_type": "code",
      "execution_count": 5,
      "metadata": {},
      "outputs": [
        {
          "data": {
            "text/plain": [
              "-6"
            ]
          },
          "execution_count": 5,
          "metadata": {},
          "output_type": "execute_result"
        }
      ],
      "source": [
        "~5"
      ]
    },
    {
      "cell_type": "code",
      "execution_count": 7,
      "metadata": {},
      "outputs": [
        {
          "data": {
            "text/plain": [
              "-2"
            ]
          },
          "execution_count": 7,
          "metadata": {},
          "output_type": "execute_result"
        }
      ],
      "source": [
        "+-2"
      ]
    },
    {
      "cell_type": "markdown",
      "metadata": {},
      "source": [
        "- *, /, //, %\tMultiplication, Division, Floor division, Modulus  \n"
      ]
    },
    {
      "cell_type": "code",
      "execution_count": 8,
      "metadata": {},
      "outputs": [
        {
          "data": {
            "text/plain": [
              "-4"
            ]
          },
          "execution_count": 8,
          "metadata": {},
          "output_type": "execute_result"
        }
      ],
      "source": [
        "2 * 2 - 8"
      ]
    },
    {
      "cell_type": "markdown",
      "metadata": {},
      "source": [
        "- +, -\tAddition, Subtraction  \n"
      ]
    },
    {
      "cell_type": "code",
      "execution_count": 9,
      "metadata": {},
      "outputs": [
        {
          "data": {
            "text/plain": [
              "True"
            ]
          },
          "execution_count": 9,
          "metadata": {},
          "output_type": "execute_result"
        }
      ],
      "source": [
        "2 + 8 > 3"
      ]
    },
    {
      "cell_type": "markdown",
      "metadata": {},
      "source": [
        "- <<, >>\tBitwise shift operators  \n"
      ]
    },
    {
      "cell_type": "code",
      "execution_count": 16,
      "metadata": {},
      "outputs": [
        {
          "data": {
            "text/plain": [
              "2048"
            ]
          },
          "execution_count": 16,
          "metadata": {},
          "output_type": "execute_result"
        }
      ],
      "source": [
        "2 << 2 + 8 # 2 ^ 10"
      ]
    },
    {
      "cell_type": "markdown",
      "metadata": {},
      "source": [
        "- &\tBitwise AND  \n"
      ]
    },
    {
      "cell_type": "code",
      "execution_count": 17,
      "metadata": {},
      "outputs": [
        {
          "data": {
            "text/plain": [
              "0"
            ]
          },
          "execution_count": 17,
          "metadata": {},
          "output_type": "execute_result"
        }
      ],
      "source": [
        "1 & 0"
      ]
    },
    {
      "cell_type": "markdown",
      "metadata": {},
      "source": [
        "- ^\tBitwise XOR  \n"
      ]
    },
    {
      "cell_type": "code",
      "execution_count": 18,
      "metadata": {},
      "outputs": [
        {
          "name": "stdout",
          "output_type": "stream",
          "text": [
            "0\n",
            "1\n"
          ]
        }
      ],
      "source": [
        "print(1 ^ 1)\n",
        "print(1 ^ 0)"
      ]
    },
    {
      "cell_type": "markdown",
      "metadata": {},
      "source": [
        "- |\tBitwise OR  \n"
      ]
    },
    {
      "cell_type": "code",
      "execution_count": 19,
      "metadata": {},
      "outputs": [
        {
          "name": "stdout",
          "output_type": "stream",
          "text": [
            "1\n",
            "1\n"
          ]
        }
      ],
      "source": [
        "print(1 | 0)\n",
        "print(1 | 1)"
      ]
    },
    {
      "cell_type": "markdown",
      "metadata": {},
      "source": [
        "- ==, !=, >, >=, <, <=, is, is not, in, not in\tComparisons, Identity, Membership   operators  \n"
      ]
    },
    {
      "cell_type": "code",
      "execution_count": 20,
      "metadata": {},
      "outputs": [
        {
          "name": "stdout",
          "output_type": "stream",
          "text": [
            "False\n",
            "True\n",
            "False\n",
            "True\n"
          ]
        }
      ],
      "source": [
        "print(1 == 5)\n",
        "print(1 != 5)\n",
        "print(1 >= 5)\n",
        "print(1 <= 5)"
      ]
    },
    {
      "cell_type": "markdown",
      "metadata": {},
      "source": [
        "- not\tLogical NOT  \n"
      ]
    },
    {
      "cell_type": "code",
      "execution_count": 21,
      "metadata": {},
      "outputs": [
        {
          "data": {
            "text/plain": [
              "False"
            ]
          },
          "execution_count": 21,
          "metadata": {},
          "output_type": "execute_result"
        }
      ],
      "source": [
        "not 1 == 1"
      ]
    },
    {
      "cell_type": "markdown",
      "metadata": {},
      "source": [
        "- and\tLogical AND  \n"
      ]
    },
    {
      "cell_type": "code",
      "execution_count": 22,
      "metadata": {},
      "outputs": [
        {
          "data": {
            "text/plain": [
              "True"
            ]
          },
          "execution_count": 22,
          "metadata": {},
          "output_type": "execute_result"
        }
      ],
      "source": [
        "1 < 5 and 5 > 1"
      ]
    },
    {
      "cell_type": "markdown",
      "metadata": {},
      "source": [
        "- or\tLogical OR  \n"
      ]
    },
    {
      "cell_type": "code",
      "execution_count": 23,
      "metadata": {},
      "outputs": [
        {
          "data": {
            "text/plain": [
              "True"
            ]
          },
          "execution_count": 23,
          "metadata": {},
          "output_type": "execute_result"
        }
      ],
      "source": [
        "1 < 5 or 5 < 1"
      ]
    }
  ],
  "metadata": {
    "colab": {
      "name": "SIC Task One.ipynb",
      "provenance": []
    },
    "kernelspec": {
      "display_name": "Python 3.10.5 ('ML-TensorFlow')",
      "language": "python",
      "name": "python3"
    },
    "language_info": {
      "codemirror_mode": {
        "name": "ipython",
        "version": 3
      },
      "file_extension": ".py",
      "mimetype": "text/x-python",
      "name": "python",
      "nbconvert_exporter": "python",
      "pygments_lexer": "ipython3",
      "version": "3.10.5"
    },
    "vscode": {
      "interpreter": {
        "hash": "d1f66bc1465963b37814a3c70c368474aa589106cfea63a6b29249f75798022b"
      }
    }
  },
  "nbformat": 4,
  "nbformat_minor": 0
}
